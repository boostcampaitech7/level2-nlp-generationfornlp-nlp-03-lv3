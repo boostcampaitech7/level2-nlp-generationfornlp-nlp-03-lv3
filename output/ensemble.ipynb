{
 "cells": [
  {
   "cell_type": "code",
   "execution_count": 925,
   "metadata": {},
   "outputs": [],
   "source": [
    "import pandas as pd\n",
    "import numpy as np\n",
    "from collections import Counter"
   ]
  },
  {
   "cell_type": "code",
   "execution_count": 926,
   "metadata": {},
   "outputs": [],
   "source": [
    "prediction_files = [\n",
    "        \"output_1.csv\",\n",
    "        \"output_2.csv\",\n",
    "        \"output_3.csv\",\n",
    "        \"output_4.csv\",\n",
    "        \"output_5.csv\",\n",
    "        \"output_9.csv\",\n",
    "        \"output_8.csv\",\n",
    "        \"temp4.csv\",\n",
    "        \"temp6.csv\"\n",
    "        ]"
   ]
  },
  {
   "cell_type": "code",
   "execution_count": 927,
   "metadata": {},
   "outputs": [
    {
     "name": "stdout",
     "output_type": "stream",
     "text": [
      "Loaded: output_1.csv, Shape: (869, 8)\n",
      "Loaded: output_2.csv, Shape: (869, 8)\n",
      "Loaded: output_3.csv, Shape: (869, 8)\n",
      "Loaded: output_4.csv, Shape: (869, 8)\n",
      "Loaded: output_5.csv, Shape: (869, 8)\n",
      "Loaded: output_9.csv, Shape: (869, 8)\n",
      "Loaded: output_8.csv, Shape: (869, 8)\n",
      "Loaded: temp4.csv, Shape: (869, 8)\n",
      "Loaded: temp6.csv, Shape: (869, 8)\n"
     ]
    }
   ],
   "source": [
    "predictions = []\n",
    "for file in prediction_files:\n",
    "    df = pd.read_csv(file)\n",
    "    predictions.append(df)\n",
    "    print(f\"Loaded: {file}, Shape: {df.shape}\")"
   ]
  },
  {
   "cell_type": "code",
   "execution_count": 928,
   "metadata": {},
   "outputs": [
    {
     "data": {
      "text/plain": [
       "9"
      ]
     },
     "execution_count": 928,
     "metadata": {},
     "output_type": "execute_result"
    }
   ],
   "source": [
    "len(predictions)"
   ]
  },
  {
   "cell_type": "markdown",
   "metadata": {},
   "source": [
    "# soft voting (확률값 평균)"
   ]
  },
  {
   "cell_type": "code",
   "execution_count": 929,
   "metadata": {},
   "outputs": [],
   "source": [
    "first_df = predictions[0]\n",
    "result_df = pd.DataFrame()\n",
    "result_df['id'] = first_df['id']\n",
    "final_answers_v1 = [] #원래 soft voting방법 (확률의 평균을 계산)\n",
    "final_probs_v1 = []\n",
    "final_answers_v2 = [] #확률의 평균을 계산한 후에 결정되는 답의 확률값이 threshold 이하일 경우 최대 확률을 가지는 답안으로 변경\n",
    "final_probs_v2 = []\n",
    "threshold=0.5\n",
    "\n",
    "for idx, row_id in enumerate(result_df['id']):\n",
    "    current_probs = []\n",
    "    origin_answer = []\n",
    "    for pred_df in predictions:\n",
    "        pred_row = pred_df[pred_df['id'] == row_id].iloc[0]\n",
    "        probs = [pred_row[col] for col in pred_row.index if col.startswith('prob_')]\n",
    "        probs = [0 if pd.isna(p) else p for p in probs]\n",
    "        current_probs.append(probs)\n",
    "        \n",
    "        max_prob = max(probs)\n",
    "        answer = str(np.argmax(probs) + 1)\n",
    "        origin_answer.append((answer, max_prob)) #(답변, 최대확룰)\n",
    "        \n",
    "    #각 선택지의 확률 평균 계산\n",
    "    avg_probs = np.mean(current_probs, axis=0)\n",
    "    \n",
    "    answer_v1 = str(np.argmax(avg_probs) + 1)\n",
    "    final_answers_v1.append(answer_v1)\n",
    "    final_probs_v1.append(avg_probs)\n",
    "        \n",
    "    ensemble_max_prob = max(avg_probs)\n",
    "    if ensemble_max_prob < threshold:\n",
    "        highest_prob = 0\n",
    "        for answer_tuple in origin_answer:\n",
    "            if answer_tuple[1] > highest_prob:\n",
    "                highest_prob = answer_tuple[1]\n",
    "                best_answer = answer_tuple\n",
    "        \n",
    "        final_answer = best_answer[0]  # 가장 확신도 높은 모델의 답\n",
    "        idx = origin_answer.index(best_answer)\n",
    "        final_prob = current_probs[idx]\n",
    "    else:\n",
    "        final_answer = str(np.argmax(avg_probs) + 1)\n",
    "        final_prob = avg_probs\n",
    "        \n",
    "    final_answers_v2.append(final_answer)\n",
    "    final_probs_v2.append(final_prob)"
   ]
  },
  {
   "cell_type": "code",
   "execution_count": 930,
   "metadata": {},
   "outputs": [],
   "source": [
    "result_v1 = result_df.copy()\n",
    "result_v1['answer'] = final_answers_v1\n",
    "for i in range(len(final_probs_v1[0])):\n",
    "    result_v1[f'prob_{i+1}'] = [probs[i] for probs in final_probs_v1]"
   ]
  },
  {
   "cell_type": "code",
   "execution_count": 931,
   "metadata": {},
   "outputs": [],
   "source": [
    "result_v2 = result_df.copy()\n",
    "result_v2['answer'] = final_answers_v2\n",
    "for i in range(len(final_probs_v2[0])):\n",
    "    result_v2[f'prob_{i+1}'] = [probs[i] for probs in final_probs_v2]"
   ]
  },
  {
   "cell_type": "code",
   "execution_count": 932,
   "metadata": {},
   "outputs": [],
   "source": [
    "result_v1.to_csv(\"ensemble_output_soft.csv\")\n",
    "result_v2.to_csv(\"ensemble_output_soft_v2.csv\")"
   ]
  },
  {
   "cell_type": "code",
   "execution_count": null,
   "metadata": {},
   "outputs": [],
   "source": []
  },
  {
   "cell_type": "markdown",
   "metadata": {},
   "source": [
    "# Hard Voting (다수결)\n",
    "- 동점이 있는 경우 동점이 있는 선택지 중 가장 확률값이 높은 것 선택"
   ]
  },
  {
   "cell_type": "code",
   "execution_count": 933,
   "metadata": {},
   "outputs": [],
   "source": [
    "# first_df = predictions[0]\n",
    "# result_df = pd.DataFrame()\n",
    "# result_df['id'] = first_df['id']\n",
    "\n",
    "# final_answers_hv_v1 = []\n",
    "# final_probs = []\n",
    "# for idx in range(len(first_df)):\n",
    "#     votes = [pred_df.iloc[idx]['answer'] for pred_df in predictions]\n",
    "#     vote_counts = Counter(votes)\n",
    "#     most_commons = vote_counts.most_common()\n",
    "\n",
    "#     #최빈값 계산\n",
    "#     max_count = most_commons[0][1]\n",
    "#     top_predictions = [pred for pred, count in most_commons if count == max_count]\n",
    "\n",
    "#     #답이 하나로 정해진 경우\n",
    "#     if len(top_predictions) == 1:\n",
    "#         final_answers_hv_v1.append(top_predictions[0])\n",
    "#         probs = []\n",
    "#         for i in range(1, len(first_df.filter(like='prob_').columns) + 1):\n",
    "#             prob_values = [float(pred_df.iloc[idx][f'prob_{i}']) for pred_df in predictions]\n",
    "#             probs.append(np.mean(prob_values))\n",
    "#         final_probs.append(probs)\n",
    "#     #공동1등이 나오는 경우\n",
    "#     else:\n",
    "#         probs = {}\n",
    "#         for ans in top_predictions:\n",
    "#             #각 모델 별 확률값 중 최대값 선택\n",
    "#             probs[ans] = max(float(pred_df.iloc[idx][f'prob_{ans}']) for pred_df in predictions)\n",
    "\n",
    "#         # 가장 높은 확률값을 가지는 답안 선택\n",
    "#         selected_answer = max(probs.items(), key=lambda x: x[1])[0]\n",
    "#         #prob = probs[selected_answer]\n",
    "#         final_answers_hv_v1.append(selected_answer)\n",
    "#         prob_list = []\n",
    "#         for i in range(1, len(first_df.filter(like='prob_').columns) + 1):\n",
    "#             prob_values = [float(pred_df.iloc[idx][f'prob_{i}']) for pred_df in predictions]\n",
    "#             prob_list.append(np.mean(prob_values))\n",
    "#         final_probs.append(prob_list)\n",
    "\n",
    "# result_df['answer'] = final_answers_hv_v1\n",
    "# final_probs = np.array(final_probs)\n",
    "# for i in range(final_probs.shape[1]):\n",
    "#     result_df[f'prob{i+1}'] = final_probs[:, i]"
   ]
  },
  {
   "cell_type": "code",
   "execution_count": 934,
   "metadata": {},
   "outputs": [],
   "source": [
    "# vote_counts.keys()"
   ]
  },
  {
   "cell_type": "code",
   "execution_count": 935,
   "metadata": {},
   "outputs": [],
   "source": [
    "# result_df.to_csv(\"ensemble_output_hard1.csv\")"
   ]
  },
  {
   "cell_type": "markdown",
   "metadata": {},
   "source": [
    "# Hard Voting (확률값 더하기)"
   ]
  },
  {
   "cell_type": "code",
   "execution_count": 936,
   "metadata": {},
   "outputs": [],
   "source": [
    "# first_df = predictions[0]\n",
    "# result_df = pd.DataFrame()\n",
    "# result_df['id'] = first_df['id']\n",
    "\n",
    "# final_answers_hv_v2 = []\n",
    "# final_probs = []\n",
    "# for idx in range(len(first_df)):\n",
    "#     votes = [pred_df.iloc[idx]['answer'] for pred_df in predictions]\n",
    "#     vote_counts = Counter(votes)\n",
    "#     most_commons = vote_counts.most_common()\n",
    "    \n",
    "#     #최빈값 계산\n",
    "#     max_count = most_commons[0][1]\n",
    "#     top_predictions = [pred for pred, count in most_commons if count == max_count]\n",
    "    \n",
    "#     #답이 하나로 정해진 경우\n",
    "#     if len(top_predictions) == 1:\n",
    "#         final_answers_hv_v2.append(top_predictions[0])\n",
    "#         probs = []\n",
    "#         for i in range(1, len(first_df.filter(like='prob_').columns) + 1):\n",
    "#             prob_values = [float(pred_df.iloc[idx][f'prob_{i}']) for pred_df in predictions]\n",
    "#             probs.append(np.mean(prob_values))\n",
    "#         final_probs.append(probs)\n",
    "#     #공동1등이 나오는 경우\n",
    "#     else:\n",
    "#         probs = {}\n",
    "#         for ans in top_predictions:\n",
    "#             #각 모델의 확률값을 모두 더함\n",
    "#             probs[ans] = sum(float(pred_df.iloc[idx][f'prob_{ans}']) for pred_df in predictions)\n",
    "        \n",
    "#         # 확률 합이 가장 높은 답안 선택\n",
    "#         selected_answer = max(probs.items(), key=lambda x: x[1])[0]\n",
    "#         final_answers_hv_v2.append(selected_answer)\n",
    "        \n",
    "#         prob_list = []\n",
    "#         for i in range(1, len(first_df.filter(like='prob_').columns) + 1):\n",
    "#             prob_values = [float(pred_df.iloc[idx][f'prob_{i}']) for pred_df in predictions]\n",
    "#             prob_list.append(np.mean(prob_values))\n",
    "#         final_probs.append(prob_list)\n",
    "    \n",
    "# result_df['answer'] = final_answers_hv_v2\n",
    "# final_probs = np.array(final_probs)\n",
    "# for i in range(final_probs.shape[1]):\n",
    "#     result_df[f'prob_{i+1}'] = final_probs[:, i]"
   ]
  },
  {
   "cell_type": "code",
   "execution_count": 937,
   "metadata": {},
   "outputs": [],
   "source": [
    "# result_df.to_csv(\"ensemble_output_hard2.csv\")"
   ]
  },
  {
   "cell_type": "code",
   "execution_count": null,
   "metadata": {},
   "outputs": [],
   "source": []
  }
 ],
 "metadata": {
  "kernelspec": {
   "display_name": "base",
   "language": "python",
   "name": "python3"
  },
  "language_info": {
   "codemirror_mode": {
    "name": "ipython",
    "version": 3
   },
   "file_extension": ".py",
   "mimetype": "text/x-python",
   "name": "python",
   "nbconvert_exporter": "python",
   "pygments_lexer": "ipython3",
   "version": "3.10.13"
  }
 },
 "nbformat": 4,
 "nbformat_minor": 2
}
