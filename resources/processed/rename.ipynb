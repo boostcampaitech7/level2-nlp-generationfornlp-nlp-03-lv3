{
 "cells": [
  {
   "cell_type": "code",
   "execution_count": 1,
   "metadata": {},
   "outputs": [],
   "source": [
    "import pandas as pd"
   ]
  },
  {
   "cell_type": "code",
   "execution_count": 10,
   "metadata": {},
   "outputs": [],
   "source": [
    "df = pd.read_csv('test_reformat_with_source_subject_retrieve.csv')"
   ]
  },
  {
   "cell_type": "code",
   "execution_count": 17,
   "metadata": {},
   "outputs": [],
   "source": [
    "df_raw = pd.read_csv('../raw/test_reformat.csv')"
   ]
  },
  {
   "cell_type": "code",
   "execution_count": 12,
   "metadata": {},
   "outputs": [],
   "source": [
    "df['id'] = [\"generation-for-nlp-\"+ str(x) for x in df['id']]"
   ]
  },
  {
   "cell_type": "code",
   "execution_count": 15,
   "metadata": {},
   "outputs": [],
   "source": [
    "df = df.drop('Unnamed: 0', axis=1)"
   ]
  },
  {
   "cell_type": "code",
   "execution_count": 20,
   "metadata": {},
   "outputs": [
    {
     "data": {
      "text/plain": [
       "869"
      ]
     },
     "execution_count": 20,
     "metadata": {},
     "output_type": "execute_result"
    }
   ],
   "source": [
    "len(df_raw['id'].tolist())"
   ]
  },
  {
   "cell_type": "code",
   "execution_count": 22,
   "metadata": {},
   "outputs": [
    {
     "data": {
      "text/html": [
       "<div>\n",
       "<style scoped>\n",
       "    .dataframe tbody tr th:only-of-type {\n",
       "        vertical-align: middle;\n",
       "    }\n",
       "\n",
       "    .dataframe tbody tr th {\n",
       "        vertical-align: top;\n",
       "    }\n",
       "\n",
       "    .dataframe thead th {\n",
       "        text-align: right;\n",
       "    }\n",
       "</style>\n",
       "<table border=\"1\" class=\"dataframe\">\n",
       "  <thead>\n",
       "    <tr style=\"text-align: right;\">\n",
       "      <th></th>\n",
       "      <th>id</th>\n",
       "      <th>paragraph</th>\n",
       "      <th>question</th>\n",
       "      <th>choices</th>\n",
       "      <th>answer</th>\n",
       "      <th>question_plus</th>\n",
       "    </tr>\n",
       "  </thead>\n",
       "  <tbody>\n",
       "    <tr>\n",
       "      <th>0</th>\n",
       "      <td>generation-for-nlp-0</td>\n",
       "      <td>사람들이 지속적으로 책을 읽는 이유 중 하나는 즐거움이다 .   독서의 즐거움에는 ...</td>\n",
       "      <td>윗글의 내용과 일치하지 않는  것은?</td>\n",
       "      <td>['같은 책을 읽은 독자라도 서로 다른 의미를 구성할 수 있다 .', '다른 독자와...</td>\n",
       "      <td>NaN</td>\n",
       "      <td>NaN</td>\n",
       "    </tr>\n",
       "    <tr>\n",
       "      <th>1</th>\n",
       "      <td>generation-for-nlp-1</td>\n",
       "      <td>사람들이 지속적으로 책을 읽는 이유 중 하나는 즐거움이다 .   독서의 즐거움에는 ...</td>\n",
       "      <td>윗글을 읽고 ㉠에 대해 보인 반응으로 적절하지 않은  것은?</td>\n",
       "      <td>['스스로 독서 계획을 세우고 자신에게 필요한 책을 찾아 개인적 으로 읽는 과정에서...</td>\n",
       "      <td>NaN</td>\n",
       "      <td>NaN</td>\n",
       "    </tr>\n",
       "    <tr>\n",
       "      <th>2</th>\n",
       "      <td>generation-for-nlp-2</td>\n",
       "      <td>(가 ) 중국에서 비롯된 유서( 類書)는 고금의 서적에서 자료를  수집하고 항목별로...</td>\n",
       "      <td>(가 )와 (나 )에 대한 설명으로 가장 적절한 것은?</td>\n",
       "      <td>['(가 )는 유서의 유형을 분류하였고 ,  (나 )는 유서의 분류 기준과   적절...</td>\n",
       "      <td>NaN</td>\n",
       "      <td>NaN</td>\n",
       "    </tr>\n",
       "    <tr>\n",
       "      <th>3</th>\n",
       "      <td>generation-for-nlp-3</td>\n",
       "      <td>(가 ) 중국에서 비롯된 유서( 類書)는 고금의 서적에서 자료를  수집하고 항목별로...</td>\n",
       "      <td>[A ]에 대한 이해로 적절하지 않은  것은?</td>\n",
       "      <td>['조선에서 편찬자가 미상인 유서가 많았던 것은 편찬자의  개인적 목적으로 유서를 ...</td>\n",
       "      <td>NaN</td>\n",
       "      <td>NaN</td>\n",
       "    </tr>\n",
       "    <tr>\n",
       "      <th>4</th>\n",
       "      <td>generation-for-nlp-4</td>\n",
       "      <td>(가 ) 중국에서 비롯된 유서( 類書)는 고금의 서적에서 자료를  수집하고 항목별로...</td>\n",
       "      <td>㉮에 대한 이해를 바탕으로 ㉠ ,  ㉡에 대해 파악한 내용으로  적절하지 않은  것은?</td>\n",
       "      <td>['지식의 제공이라는 ㉮의 편찬 의도는,  ㉠에서 지식을 심화하고   확장하여 소개...</td>\n",
       "      <td>NaN</td>\n",
       "      <td>NaN</td>\n",
       "    </tr>\n",
       "    <tr>\n",
       "      <th>...</th>\n",
       "      <td>...</td>\n",
       "      <td>...</td>\n",
       "      <td>...</td>\n",
       "      <td>...</td>\n",
       "      <td>...</td>\n",
       "      <td>...</td>\n",
       "    </tr>\n",
       "    <tr>\n",
       "      <th>864</th>\n",
       "      <td>generation-for-nlp-1609</td>\n",
       "      <td>쌍용자동차가 2020 패러글라이딩 한국리그 출전 선수들을 후원한다고 20일 밝히고,...</td>\n",
       "      <td>쌍용자동차가 후원하는 2020 패러글라이딩 한국리그에서 크로스컨트리 부문 3위를 차...</td>\n",
       "      <td>['오석철', '이다겸', '이태수', '안용태', '김민수']</td>\n",
       "      <td>NaN</td>\n",
       "      <td>NaN</td>\n",
       "    </tr>\n",
       "    <tr>\n",
       "      <th>865</th>\n",
       "      <td>generation-for-nlp-1512</td>\n",
       "      <td>인터넷 기업의 금융업 진출은 중국만의 얘기는 아니다. 최근 영국의 일간지 파이낸셜타...</td>\n",
       "      <td>페이스북이 아일랜드에서 금융업 인가를 받으면 어떤 기관으로 인정받게 되는가?</td>\n",
       "      <td>['전자화폐 취급기관', '상업은행', '투자은행', '신용협동조합', '보험회사']</td>\n",
       "      <td>NaN</td>\n",
       "      <td>NaN</td>\n",
       "    </tr>\n",
       "    <tr>\n",
       "      <th>866</th>\n",
       "      <td>generation-for-nlp-1382</td>\n",
       "      <td>영국 정부가 1950년대 아프리카 케냐 식민통치 당시 저질렀던 가혹 행위의 피해자 ...</td>\n",
       "      <td>영국 정부가 케냐 식민통치 당시 저질렀던 가혹 행위의 피해자들에게 배상할 금액은 얼...</td>\n",
       "      <td>['1인당 1000파운드', '1인당 2000파운드', '1인당 2600파운드', ...</td>\n",
       "      <td>NaN</td>\n",
       "      <td>NaN</td>\n",
       "    </tr>\n",
       "    <tr>\n",
       "      <th>867</th>\n",
       "      <td>generation-for-nlp-702</td>\n",
       "      <td>재정 정책    실질 GDP    실업</td>\n",
       "      <td>경제가 경기 침체기를 겪고 있다면, 그 격차를 없애기 위한 적절한 재정 정책과 그 ...</td>\n",
       "      <td>['세금 증가 \\xa0\\xa0\\xa0 증가 \\xa0\\xa0\\xa0 감소', '지출 ...</td>\n",
       "      <td>NaN</td>\n",
       "      <td>NaN</td>\n",
       "    </tr>\n",
       "    <tr>\n",
       "      <th>868</th>\n",
       "      <td>generation-for-nlp-1404</td>\n",
       "      <td>‘법률자문 전담팀을 꾸려 소송 대응 역량을 키운다. 담합을 자진 신고하는 기업에는 ...</td>\n",
       "      <td>공정거래위원회가 최근 패소 방지 대책을 마련한 이유는 무엇인가?</td>\n",
       "      <td>['법 집행에 대한 신뢰도 저하', '담합 신고 기업의 증가', '과징금 소송의 승...</td>\n",
       "      <td>NaN</td>\n",
       "      <td>NaN</td>\n",
       "    </tr>\n",
       "  </tbody>\n",
       "</table>\n",
       "<p>869 rows × 6 columns</p>\n",
       "</div>"
      ],
      "text/plain": [
       "                          id  \\\n",
       "0       generation-for-nlp-0   \n",
       "1       generation-for-nlp-1   \n",
       "2       generation-for-nlp-2   \n",
       "3       generation-for-nlp-3   \n",
       "4       generation-for-nlp-4   \n",
       "..                       ...   \n",
       "864  generation-for-nlp-1609   \n",
       "865  generation-for-nlp-1512   \n",
       "866  generation-for-nlp-1382   \n",
       "867   generation-for-nlp-702   \n",
       "868  generation-for-nlp-1404   \n",
       "\n",
       "                                             paragraph  \\\n",
       "0    사람들이 지속적으로 책을 읽는 이유 중 하나는 즐거움이다 .   독서의 즐거움에는 ...   \n",
       "1    사람들이 지속적으로 책을 읽는 이유 중 하나는 즐거움이다 .   독서의 즐거움에는 ...   \n",
       "2    (가 ) 중국에서 비롯된 유서( 類書)는 고금의 서적에서 자료를  수집하고 항목별로...   \n",
       "3    (가 ) 중국에서 비롯된 유서( 類書)는 고금의 서적에서 자료를  수집하고 항목별로...   \n",
       "4    (가 ) 중국에서 비롯된 유서( 類書)는 고금의 서적에서 자료를  수집하고 항목별로...   \n",
       "..                                                 ...   \n",
       "864  쌍용자동차가 2020 패러글라이딩 한국리그 출전 선수들을 후원한다고 20일 밝히고,...   \n",
       "865  인터넷 기업의 금융업 진출은 중국만의 얘기는 아니다. 최근 영국의 일간지 파이낸셜타...   \n",
       "866  영국 정부가 1950년대 아프리카 케냐 식민통치 당시 저질렀던 가혹 행위의 피해자 ...   \n",
       "867                              재정 정책    실질 GDP    실업   \n",
       "868  ‘법률자문 전담팀을 꾸려 소송 대응 역량을 키운다. 담합을 자진 신고하는 기업에는 ...   \n",
       "\n",
       "                                              question  \\\n",
       "0                                 윗글의 내용과 일치하지 않는  것은?   \n",
       "1                    윗글을 읽고 ㉠에 대해 보인 반응으로 적절하지 않은  것은?   \n",
       "2                       (가 )와 (나 )에 대한 설명으로 가장 적절한 것은?   \n",
       "3                            [A ]에 대한 이해로 적절하지 않은  것은?   \n",
       "4     ㉮에 대한 이해를 바탕으로 ㉠ ,  ㉡에 대해 파악한 내용으로  적절하지 않은  것은?   \n",
       "..                                                 ...   \n",
       "864  쌍용자동차가 후원하는 2020 패러글라이딩 한국리그에서 크로스컨트리 부문 3위를 차...   \n",
       "865         페이스북이 아일랜드에서 금융업 인가를 받으면 어떤 기관으로 인정받게 되는가?   \n",
       "866  영국 정부가 케냐 식민통치 당시 저질렀던 가혹 행위의 피해자들에게 배상할 금액은 얼...   \n",
       "867  경제가 경기 침체기를 겪고 있다면, 그 격차를 없애기 위한 적절한 재정 정책과 그 ...   \n",
       "868                공정거래위원회가 최근 패소 방지 대책을 마련한 이유는 무엇인가?   \n",
       "\n",
       "                                               choices  answer question_plus  \n",
       "0    ['같은 책을 읽은 독자라도 서로 다른 의미를 구성할 수 있다 .', '다른 독자와...     NaN           NaN  \n",
       "1    ['스스로 독서 계획을 세우고 자신에게 필요한 책을 찾아 개인적 으로 읽는 과정에서...     NaN           NaN  \n",
       "2    ['(가 )는 유서의 유형을 분류하였고 ,  (나 )는 유서의 분류 기준과   적절...     NaN           NaN  \n",
       "3    ['조선에서 편찬자가 미상인 유서가 많았던 것은 편찬자의  개인적 목적으로 유서를 ...     NaN           NaN  \n",
       "4    ['지식의 제공이라는 ㉮의 편찬 의도는,  ㉠에서 지식을 심화하고   확장하여 소개...     NaN           NaN  \n",
       "..                                                 ...     ...           ...  \n",
       "864                ['오석철', '이다겸', '이태수', '안용태', '김민수']     NaN           NaN  \n",
       "865    ['전자화폐 취급기관', '상업은행', '투자은행', '신용협동조합', '보험회사']     NaN           NaN  \n",
       "866  ['1인당 1000파운드', '1인당 2000파운드', '1인당 2600파운드', ...     NaN           NaN  \n",
       "867  ['세금 증가 \\xa0\\xa0\\xa0 증가 \\xa0\\xa0\\xa0 감소', '지출 ...     NaN           NaN  \n",
       "868  ['법 집행에 대한 신뢰도 저하', '담합 신고 기업의 증가', '과징금 소송의 승...     NaN           NaN  \n",
       "\n",
       "[869 rows x 6 columns]"
      ]
     },
     "execution_count": 22,
     "metadata": {},
     "output_type": "execute_result"
    }
   ],
   "source": [
    "df_raw"
   ]
  },
  {
   "cell_type": "code",
   "execution_count": 27,
   "metadata": {},
   "outputs": [],
   "source": [
    "df = df.set_index(\"id\").loc[df_raw['id'].tolist()]"
   ]
  },
  {
   "cell_type": "code",
   "execution_count": 28,
   "metadata": {},
   "outputs": [],
   "source": [
    "df = df.reset_index()"
   ]
  },
  {
   "cell_type": "code",
   "execution_count": 31,
   "metadata": {},
   "outputs": [],
   "source": [
    "df.to_csv('test_reformat_with_source_subject_retrieve_.csv', encoding='utf-8-sig', index=0)"
   ]
  }
 ],
 "metadata": {
  "kernelspec": {
   "display_name": ".venv_sh",
   "language": "python",
   "name": "python3"
  },
  "language_info": {
   "codemirror_mode": {
    "name": "ipython",
    "version": 3
   },
   "file_extension": ".py",
   "mimetype": "text/x-python",
   "name": "python",
   "nbconvert_exporter": "python",
   "pygments_lexer": "ipython3",
   "version": "3.10.13"
  }
 },
 "nbformat": 4,
 "nbformat_minor": 2
}
