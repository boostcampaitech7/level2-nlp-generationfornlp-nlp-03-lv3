{
 "cells": [
  {
   "cell_type": "markdown",
   "metadata": {},
   "source": [
    "# 데이터셋 로드"
   ]
  },
  {
   "cell_type": "code",
   "execution_count": 9,
   "metadata": {},
   "outputs": [],
   "source": [
    "from datasets import load_dataset\n",
    "\n",
    "dataset = load_dataset(\"KorQuAD/squad_kor_v1\")"
   ]
  },
  {
   "cell_type": "code",
   "execution_count": 10,
   "metadata": {},
   "outputs": [
    {
     "data": {
      "text/plain": [
       "DatasetDict({\n",
       "    train: Dataset({\n",
       "        features: ['id', 'title', 'context', 'question', 'answers'],\n",
       "        num_rows: 60407\n",
       "    })\n",
       "    validation: Dataset({\n",
       "        features: ['id', 'title', 'context', 'question', 'answers'],\n",
       "        num_rows: 5774\n",
       "    })\n",
       "})"
      ]
     },
     "execution_count": 10,
     "metadata": {},
     "output_type": "execute_result"
    }
   ],
   "source": [
    "dataset"
   ]
  },
  {
   "cell_type": "code",
   "execution_count": 17,
   "metadata": {},
   "outputs": [],
   "source": [
    "import pandas as pd\n",
    "\n",
    "df_train = pd.DataFrame(dataset['train'])"
   ]
  },
  {
   "cell_type": "code",
   "execution_count": null,
   "metadata": {},
   "outputs": [],
   "source": [
    "df_valid = pd.DataFrame(dataset['validation'])"
   ]
  },
  {
   "cell_type": "markdown",
   "metadata": {},
   "source": [
    "# 1차 필터링 (LLM으로 context만 판별)"
   ]
  },
  {
   "cell_type": "markdown",
   "metadata": {},
   "source": [
    "## train dataset에서 유효 id를 가진 row만 추출\n",
    "train dataset: 60407 -> 9041"
   ]
  },
  {
   "cell_type": "code",
   "execution_count": 18,
   "metadata": {},
   "outputs": [],
   "source": [
    "df = pd.read_csv('korquad_train_cls.csv')\n",
    "df = df.drop(columns=['Unnamed: 0'])\n",
    "df_ok = df[df['cls']=='유효']\n",
    "df_ok_ids = df_ok['id'].to_list()"
   ]
  },
  {
   "cell_type": "code",
   "execution_count": 23,
   "metadata": {},
   "outputs": [],
   "source": [
    "# 리스트에서 앞의 두 구간 추출\n",
    "id_prefix_set = {f\"{id.split('-')[0]}-{id.split('-')[1]}\" for id in df_ok_ids}\n",
    "\n",
    "# DataFrame에서 동일한 패턴 추출\n",
    "df_train['prefix'] = df_train['id'].apply(lambda x: f\"{x.split('-')[0]}-{x.split('-')[1]}\")\n",
    "\n",
    "# 필터링\n",
    "filtered_df = df_train[df_train['prefix'].isin(id_prefix_set)].drop(columns=['prefix'])\n",
    "\n",
    "filtered_df.to_csv('korquad_train_remain.csv')"
   ]
  },
  {
   "cell_type": "markdown",
   "metadata": {},
   "source": [
    "## valid dataset에서 유효 id를 가진 row만 추출\n",
    "valid dataset: 5774 -> 898"
   ]
  },
  {
   "cell_type": "code",
   "execution_count": 6,
   "metadata": {},
   "outputs": [],
   "source": [
    "df = pd.read_csv('korquad_valid_cls.csv')\n",
    "df = df.drop(columns=['Unnamed: 0'])\n",
    "df_ok = df[df['cls']=='유효']"
   ]
  },
  {
   "cell_type": "code",
   "execution_count": 7,
   "metadata": {},
   "outputs": [],
   "source": [
    "df_ok_ids = df_ok['id'].to_list()"
   ]
  },
  {
   "cell_type": "code",
   "execution_count": 16,
   "metadata": {},
   "outputs": [],
   "source": [
    "# 리스트에서 앞의 두 구간 추출\n",
    "id_prefix_set = {f\"{id.split('-')[0]}-{id.split('-')[1]}\" for id in df_ok_ids}\n",
    "\n",
    "# DataFrame에서 동일한 패턴 추출\n",
    "df_valid['prefix'] = df_valid['id'].apply(lambda x: f\"{x.split('-')[0]}-{x.split('-')[1]}\")\n",
    "\n",
    "# 필터링\n",
    "filtered_df = df_valid[df_valid['prefix'].isin(id_prefix_set)].drop(columns=['prefix'])\n",
    "\n",
    "filtered_df.to_csv('korquad_valid_remain.csv')"
   ]
  },
  {
   "cell_type": "markdown",
   "metadata": {},
   "source": [
    "## concat"
   ]
  },
  {
   "cell_type": "code",
   "execution_count": 25,
   "metadata": {},
   "outputs": [],
   "source": [
    "df_train_reamain = pd.read_csv('korquad_train_remain.csv')\n",
    "df_valid_reamain = pd.read_csv('korquad_valid_remain.csv')"
   ]
  },
  {
   "cell_type": "code",
   "execution_count": 28,
   "metadata": {},
   "outputs": [],
   "source": [
    "df_reamin = pd.concat([df_train_reamain, df_valid_reamain])\n",
    "df_reamin = df_reamin.drop(columns=['Unnamed: 0'])"
   ]
  },
  {
   "cell_type": "code",
   "execution_count": 30,
   "metadata": {},
   "outputs": [],
   "source": [
    "df_reamin.to_csv('korquad_remain.csv')"
   ]
  },
  {
   "cell_type": "markdown",
   "metadata": {},
   "source": [
    "# context 중복 제거해가면서 만들어보자\n",
    "(보류: 2차 필터링 (LLM으로 context와 question, answer set 판별))"
   ]
  },
  {
   "cell_type": "code",
   "execution_count": 9,
   "metadata": {},
   "outputs": [],
   "source": [
    "import pandas as pd\n",
    "\n",
    "df_remain = pd.read_csv('korquad_remain.csv')\n",
    "df_remain = df_remain.drop(columns=['Unnamed: 0'])"
   ]
  },
  {
   "cell_type": "code",
   "execution_count": 10,
   "metadata": {},
   "outputs": [],
   "source": [
    "df_remain_first = df_remain.drop_duplicates(subset='context', keep='first')"
   ]
  },
  {
   "cell_type": "code",
   "execution_count": null,
   "metadata": {},
   "outputs": [],
   "source": [
    "df_remain_first.to_csv('df_remain_first.csv')"
   ]
  },
  {
   "cell_type": "code",
   "execution_count": 11,
   "metadata": {},
   "outputs": [],
   "source": [
    "# 중복으로 걸러진 데이터 가져오기\n",
    "df_filtered_out = df_remain[~df_remain.index.isin(df_remain_first.index)]"
   ]
  },
  {
   "cell_type": "code",
   "execution_count": 13,
   "metadata": {},
   "outputs": [
    {
     "name": "stdout",
     "output_type": "stream",
     "text": [
      "9939\n",
      "4186\n",
      "5753\n"
     ]
    }
   ],
   "source": [
    "print(len(df_remain))\n",
    "print(len(df_remain_first))\n",
    "print(len(df_filtered_out))"
   ]
  },
  {
   "cell_type": "code",
   "execution_count": 14,
   "metadata": {},
   "outputs": [],
   "source": [
    "df_remain_second = df_filtered_out.drop_duplicates(subset='context', keep='first')"
   ]
  },
  {
   "cell_type": "code",
   "execution_count": 16,
   "metadata": {},
   "outputs": [],
   "source": [
    "df_remain_second.to_csv('df_remain_second.csv')"
   ]
  },
  {
   "cell_type": "code",
   "execution_count": 17,
   "metadata": {},
   "outputs": [],
   "source": [
    "# 중복으로 걸러진 데이터 가져오기\n",
    "df_filtered_out_again = df_filtered_out[~df_filtered_out.index.isin(df_remain_second.index)]"
   ]
  },
  {
   "cell_type": "code",
   "execution_count": 18,
   "metadata": {},
   "outputs": [
    {
     "name": "stdout",
     "output_type": "stream",
     "text": [
      "5753\n",
      "4184\n",
      "1569\n"
     ]
    }
   ],
   "source": [
    "print(len(df_filtered_out))\n",
    "print(len(df_remain_second))\n",
    "print(len(df_filtered_out_again))"
   ]
  },
  {
   "cell_type": "code",
   "execution_count": 19,
   "metadata": {},
   "outputs": [],
   "source": [
    "df_filtered_out_again.to_csv('df_remain_third.csv')"
   ]
  },
  {
   "cell_type": "markdown",
   "metadata": {},
   "source": [
    "### generate test"
   ]
  },
  {
   "cell_type": "code",
   "execution_count": 1,
   "metadata": {},
   "outputs": [],
   "source": [
    "import pandas as pd\n",
    "\n",
    "df= pd.read_csv('df_remain_third.csv')"
   ]
  },
  {
   "cell_type": "code",
   "execution_count": 3,
   "metadata": {},
   "outputs": [],
   "source": [
    "df_head5 = df.iloc[:5]"
   ]
  },
  {
   "cell_type": "code",
   "execution_count": 4,
   "metadata": {},
   "outputs": [],
   "source": [
    "df_head5.to_csv('head5_test.csv')"
   ]
  },
  {
   "cell_type": "code",
   "execution_count": null,
   "metadata": {},
   "outputs": [],
   "source": []
  }
 ],
 "metadata": {
  "kernelspec": {
   "display_name": ".venv",
   "language": "python",
   "name": "python3"
  },
  "language_info": {
   "codemirror_mode": {
    "name": "ipython",
    "version": 3
   },
   "file_extension": ".py",
   "mimetype": "text/x-python",
   "name": "python",
   "nbconvert_exporter": "python",
   "pygments_lexer": "ipython3",
   "version": "3.10.13"
  }
 },
 "nbformat": 4,
 "nbformat_minor": 2
}
