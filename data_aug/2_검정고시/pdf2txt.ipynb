{
 "cells": [
  {
   "cell_type": "code",
   "execution_count": 5,
   "metadata": {
    "id": "xzUgbxUK3W_a"
   },
   "outputs": [],
   "source": [
    "import PyPDF2\n",
    "\n",
    "pdf_path = \"2024년도_2차시험_고졸학력_국어_문제.pdf\"\n",
    "pdf_reader = PyPDF2.PdfReader(pdf_path)\n",
    "num_pages = len(pdf_reader.pages)\n",
    "\n",
    "text = \"\"\n",
    "for page_num in range(num_pages):\n",
    "    page = pdf_reader.pages[page_num]\n",
    "    text += page.extract_text()\n",
    "\n",
    "output_file = \"2024년도_2차시험_고졸학력_국어_문제.txt\"\n",
    "with open(output_file, 'w', encoding='utf-8') as file:\n",
    "    file.write(text)"
   ]
  }
 ],
 "metadata": {
  "colab": {
   "provenance": []
  },
  "kernelspec": {
   "display_name": "Python 3",
   "name": "python3"
  },
  "language_info": {
   "name": "python"
  }
 },
 "nbformat": 4,
 "nbformat_minor": 0
}
