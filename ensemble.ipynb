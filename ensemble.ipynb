{
 "cells": [
  {
   "cell_type": "code",
   "execution_count": 15,
   "metadata": {},
   "outputs": [],
   "source": [
    "import pandas as pd\n",
    "import numpy as np\n",
    "from collections import Counter"
   ]
  },
  {
   "cell_type": "code",
   "execution_count": 16,
   "metadata": {},
   "outputs": [],
   "source": [
    "prediction_files = [\n",
    "        \"output/kfold_output_0_2156.csv\",\n",
    "        \"output/kfold_output_0_6468.csv\",\n",
    "]"
   ]
  },
  {
   "cell_type": "code",
   "execution_count": 17,
   "metadata": {},
   "outputs": [
    {
     "name": "stdout",
     "output_type": "stream",
     "text": [
      "Loaded: output/kfold_output_0_2156.csv, Shape: (869, 7)\n",
      "Loaded: output/kfold_output_0_6468.csv, Shape: (869, 7)\n"
     ]
    }
   ],
   "source": [
    "predictions = []\n",
    "for path in prediction_files:\n",
    "    df = pd.read_csv(path)\n",
    "    predictions.append(df)\n",
    "    print(f\"Loaded: {path}, Shape: {df.shape}\")"
   ]
  },
  {
   "cell_type": "code",
   "execution_count": 18,
   "metadata": {},
   "outputs": [
    {
     "data": {
      "text/plain": [
       "2"
      ]
     },
     "execution_count": 18,
     "metadata": {},
     "output_type": "execute_result"
    }
   ],
   "source": [
    "len(predictions)"
   ]
  },
  {
   "cell_type": "markdown",
   "metadata": {},
   "source": [
    "# soft voting (확률값 평균)"
   ]
  },
  {
   "cell_type": "code",
   "execution_count": 6,
   "metadata": {},
   "outputs": [],
   "source": [
    "first_df = predictions[0]\n",
    "result_df = pd.DataFrame()\n",
    "result_df['id'] = first_df['id']\n",
    "final_answers = []\n",
    "final_probs = []\n",
    "\n",
    "for idx, row_id in enumerate(result_df['id']):\n",
    "    current_probs = []\n",
    "    for pred_df in predictions:\n",
    "        pred_row = pred_df[pred_df['id'] == row_id].iloc[0]\n",
    "        probs = [pred_row[col] for col in pred_row.index if col.startswith('prob_')]\n",
    "        probs = [0 if pd.isna(p) else p for p in probs]\n",
    "        current_probs.append(probs)\n",
    "\n",
    "    avg_probs = np.mean(current_probs, axis=0)\n",
    "    answer = str(np.argmax(avg_probs) + 1)\n",
    "        \n",
    "    final_answers.append(answer)\n",
    "    final_probs.append(avg_probs)"
   ]
  },
  {
   "cell_type": "code",
   "execution_count": null,
   "metadata": {},
   "outputs": [],
   "source": [
    "result_df['answer'] = final_answers\n",
    "result_df.to_csv(\"output/ensemble_result.csv\")"
   ]
  },
  {
   "cell_type": "code",
   "execution_count": 8,
   "metadata": {},
   "outputs": [],
   "source": [
    "result_with_prob = result_df.copy()\n",
    "for i in range(len(final_probs[0])):\n",
    "    result_with_prob[f'avg_prob_{i+1}'] = [probs[i] for probs in final_probs]"
   ]
  },
  {
   "cell_type": "code",
   "execution_count": 9,
   "metadata": {},
   "outputs": [
    {
     "data": {
      "text/html": [
       "<div>\n",
       "<style scoped>\n",
       "    .dataframe tbody tr th:only-of-type {\n",
       "        vertical-align: middle;\n",
       "    }\n",
       "\n",
       "    .dataframe tbody tr th {\n",
       "        vertical-align: top;\n",
       "    }\n",
       "\n",
       "    .dataframe thead th {\n",
       "        text-align: right;\n",
       "    }\n",
       "</style>\n",
       "<table border=\"1\" class=\"dataframe\">\n",
       "  <thead>\n",
       "    <tr style=\"text-align: right;\">\n",
       "      <th></th>\n",
       "      <th>id</th>\n",
       "      <th>ensemble_answer</th>\n",
       "      <th>avg_prob_1</th>\n",
       "      <th>avg_prob_2</th>\n",
       "      <th>avg_prob_3</th>\n",
       "      <th>avg_prob_4</th>\n",
       "      <th>avg_prob_5</th>\n",
       "    </tr>\n",
       "  </thead>\n",
       "  <tbody>\n",
       "    <tr>\n",
       "      <th>0</th>\n",
       "      <td>generation-for-nlp-0</td>\n",
       "      <td>1</td>\n",
       "      <td>0.922698</td>\n",
       "      <td>0.040491</td>\n",
       "      <td>0.014530</td>\n",
       "      <td>0.015717</td>\n",
       "      <td>6.563224e-03</td>\n",
       "    </tr>\n",
       "    <tr>\n",
       "      <th>1</th>\n",
       "      <td>generation-for-nlp-1</td>\n",
       "      <td>1</td>\n",
       "      <td>0.983166</td>\n",
       "      <td>0.007569</td>\n",
       "      <td>0.008182</td>\n",
       "      <td>0.001014</td>\n",
       "      <td>6.894798e-05</td>\n",
       "    </tr>\n",
       "    <tr>\n",
       "      <th>2</th>\n",
       "      <td>generation-for-nlp-2</td>\n",
       "      <td>4</td>\n",
       "      <td>0.000257</td>\n",
       "      <td>0.000252</td>\n",
       "      <td>0.000087</td>\n",
       "      <td>0.999399</td>\n",
       "      <td>3.236853e-06</td>\n",
       "    </tr>\n",
       "    <tr>\n",
       "      <th>3</th>\n",
       "      <td>generation-for-nlp-3</td>\n",
       "      <td>5</td>\n",
       "      <td>0.084100</td>\n",
       "      <td>0.054551</td>\n",
       "      <td>0.007359</td>\n",
       "      <td>0.013749</td>\n",
       "      <td>8.402416e-01</td>\n",
       "    </tr>\n",
       "    <tr>\n",
       "      <th>4</th>\n",
       "      <td>generation-for-nlp-4</td>\n",
       "      <td>3</td>\n",
       "      <td>0.237815</td>\n",
       "      <td>0.186903</td>\n",
       "      <td>0.417920</td>\n",
       "      <td>0.153744</td>\n",
       "      <td>3.618781e-03</td>\n",
       "    </tr>\n",
       "    <tr>\n",
       "      <th>...</th>\n",
       "      <td>...</td>\n",
       "      <td>...</td>\n",
       "      <td>...</td>\n",
       "      <td>...</td>\n",
       "      <td>...</td>\n",
       "      <td>...</td>\n",
       "      <td>...</td>\n",
       "    </tr>\n",
       "    <tr>\n",
       "      <th>864</th>\n",
       "      <td>generation-for-nlp-1609</td>\n",
       "      <td>1</td>\n",
       "      <td>0.999808</td>\n",
       "      <td>0.000151</td>\n",
       "      <td>0.000023</td>\n",
       "      <td>0.000014</td>\n",
       "      <td>3.536329e-06</td>\n",
       "    </tr>\n",
       "    <tr>\n",
       "      <th>865</th>\n",
       "      <td>generation-for-nlp-1512</td>\n",
       "      <td>1</td>\n",
       "      <td>0.999861</td>\n",
       "      <td>0.000128</td>\n",
       "      <td>0.000006</td>\n",
       "      <td>0.000004</td>\n",
       "      <td>6.436802e-07</td>\n",
       "    </tr>\n",
       "    <tr>\n",
       "      <th>866</th>\n",
       "      <td>generation-for-nlp-1382</td>\n",
       "      <td>3</td>\n",
       "      <td>0.000057</td>\n",
       "      <td>0.000081</td>\n",
       "      <td>0.999664</td>\n",
       "      <td>0.000193</td>\n",
       "      <td>5.344654e-06</td>\n",
       "    </tr>\n",
       "    <tr>\n",
       "      <th>867</th>\n",
       "      <td>generation-for-nlp-702</td>\n",
       "      <td>4</td>\n",
       "      <td>0.002915</td>\n",
       "      <td>0.000643</td>\n",
       "      <td>0.060629</td>\n",
       "      <td>0.935813</td>\n",
       "      <td>0.000000e+00</td>\n",
       "    </tr>\n",
       "    <tr>\n",
       "      <th>868</th>\n",
       "      <td>generation-for-nlp-1404</td>\n",
       "      <td>1</td>\n",
       "      <td>0.999097</td>\n",
       "      <td>0.000812</td>\n",
       "      <td>0.000077</td>\n",
       "      <td>0.000009</td>\n",
       "      <td>4.567862e-06</td>\n",
       "    </tr>\n",
       "  </tbody>\n",
       "</table>\n",
       "<p>869 rows × 7 columns</p>\n",
       "</div>"
      ],
      "text/plain": [
       "                          id ensemble_answer  avg_prob_1  avg_prob_2  \\\n",
       "0       generation-for-nlp-0               1    0.922698    0.040491   \n",
       "1       generation-for-nlp-1               1    0.983166    0.007569   \n",
       "2       generation-for-nlp-2               4    0.000257    0.000252   \n",
       "3       generation-for-nlp-3               5    0.084100    0.054551   \n",
       "4       generation-for-nlp-4               3    0.237815    0.186903   \n",
       "..                       ...             ...         ...         ...   \n",
       "864  generation-for-nlp-1609               1    0.999808    0.000151   \n",
       "865  generation-for-nlp-1512               1    0.999861    0.000128   \n",
       "866  generation-for-nlp-1382               3    0.000057    0.000081   \n",
       "867   generation-for-nlp-702               4    0.002915    0.000643   \n",
       "868  generation-for-nlp-1404               1    0.999097    0.000812   \n",
       "\n",
       "     avg_prob_3  avg_prob_4    avg_prob_5  \n",
       "0      0.014530    0.015717  6.563224e-03  \n",
       "1      0.008182    0.001014  6.894798e-05  \n",
       "2      0.000087    0.999399  3.236853e-06  \n",
       "3      0.007359    0.013749  8.402416e-01  \n",
       "4      0.417920    0.153744  3.618781e-03  \n",
       "..          ...         ...           ...  \n",
       "864    0.000023    0.000014  3.536329e-06  \n",
       "865    0.000006    0.000004  6.436802e-07  \n",
       "866    0.999664    0.000193  5.344654e-06  \n",
       "867    0.060629    0.935813  0.000000e+00  \n",
       "868    0.000077    0.000009  4.567862e-06  \n",
       "\n",
       "[869 rows x 7 columns]"
      ]
     },
     "execution_count": 9,
     "metadata": {},
     "output_type": "execute_result"
    }
   ],
   "source": [
    "result_with_prob"
   ]
  },
  {
   "cell_type": "markdown",
   "metadata": {},
   "source": [
    "# Hard Voting (다수결)\n",
    "- 동점이 있는 경우 동점이 있는 선택지 중 가장 확률값이 높은 것 선택"
   ]
  },
  {
   "cell_type": "code",
   "execution_count": 22,
   "metadata": {},
   "outputs": [],
   "source": [
    "first_df = predictions[0]\n",
    "result_df = pd.DataFrame()\n",
    "result_df['id'] = first_df['id']\n",
    "\n",
    "final_answers = []\n",
    "for idx in range(len(first_df)):\n",
    "    votes = [pred_df.iloc[idx]['answer'] for pred_df in predictions]\n",
    "    vote_counts = Counter(votes)\n",
    "    most_commons = vote_counts.most_common()\n",
    "    \n",
    "    #다수결로 공동 1등이 생겼으면\n",
    "    if len(most_commons) > 1 and most_commons[0][1] == most_commons[1][1]:\n",
    "        \n",
    "        answer = [ans for ans, count in most_commons if count == most_commons[0][1]]\n",
    "        probs = {}\n",
    "        for ans in answer:\n",
    "            probs[ans] = max(pred_df.iloc[idx][f'prob_{ans}'] for pred_df in predictions)\n",
    "        selected_answer = max(probs.items(), key=lambda x: x[1])[0]\n",
    "        final_answers.append(selected_answer)\n",
    "    else:\n",
    "        final_answers.append(most_commons[0][0])\n",
    "        \n",
    "result_df['answer'] = final_answers"
   ]
  },
  {
   "cell_type": "code",
   "execution_count": 23,
   "metadata": {},
   "outputs": [
    {
     "data": {
      "text/plain": [
       "dict_keys([1])"
      ]
     },
     "execution_count": 23,
     "metadata": {},
     "output_type": "execute_result"
    }
   ],
   "source": [
    "vote_counts.keys()"
   ]
  },
  {
   "cell_type": "code",
   "execution_count": 24,
   "metadata": {},
   "outputs": [],
   "source": [
    "result_df.to_csv(\"output/ensemble_result.csv\")"
   ]
  },
  {
   "cell_type": "code",
   "execution_count": null,
   "metadata": {},
   "outputs": [],
   "source": []
  }
 ],
 "metadata": {
  "kernelspec": {
   "display_name": "base",
   "language": "python",
   "name": "python3"
  },
  "language_info": {
   "codemirror_mode": {
    "name": "ipython",
    "version": 3
   },
   "file_extension": ".py",
   "mimetype": "text/x-python",
   "name": "python",
   "nbconvert_exporter": "python",
   "pygments_lexer": "ipython3",
   "version": "3.10.13"
  }
 },
 "nbformat": 4,
 "nbformat_minor": 2
}
