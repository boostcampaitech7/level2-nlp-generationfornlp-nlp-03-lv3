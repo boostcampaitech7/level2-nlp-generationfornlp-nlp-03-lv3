{
 "cells": [
  {
   "cell_type": "code",
   "execution_count": 45,
   "metadata": {},
   "outputs": [],
   "source": [
    "import pandas as pd\n",
    "import numpy as np\n",
    "from collections import Counter"
   ]
  },
  {
   "cell_type": "code",
   "execution_count": 57,
   "metadata": {},
   "outputs": [],
   "source": [
    "prediction_files = [\n",
    "        \"output/kfold_output_0_2156.csv\",\n",
    "        \"output/kfold_output_0_4312.csv\",\n",
    "        \"output/kfold_output_0_6468.csv\",\n",
    "]"
   ]
  },
  {
   "cell_type": "code",
   "execution_count": 58,
   "metadata": {},
   "outputs": [
    {
     "name": "stdout",
     "output_type": "stream",
     "text": [
      "Loaded: output/kfold_output_0_2156.csv, Shape: (869, 7)\n",
      "Loaded: output/kfold_output_0_4312.csv, Shape: (869, 7)\n",
      "Loaded: output/kfold_output_0_6468.csv, Shape: (869, 7)\n"
     ]
    }
   ],
   "source": [
    "predictions = []\n",
    "for path in prediction_files:\n",
    "    df = pd.read_csv(path)\n",
    "    predictions.append(df)\n",
    "    print(f\"Loaded: {path}, Shape: {df.shape}\")"
   ]
  },
  {
   "cell_type": "code",
   "execution_count": 59,
   "metadata": {},
   "outputs": [
    {
     "data": {
      "text/plain": [
       "3"
      ]
     },
     "execution_count": 59,
     "metadata": {},
     "output_type": "execute_result"
    }
   ],
   "source": [
    "len(predictions)"
   ]
  },
  {
   "cell_type": "markdown",
   "metadata": {},
   "source": [
    "# soft voting (확률값 평균)"
   ]
  },
  {
   "cell_type": "code",
   "execution_count": 60,
   "metadata": {},
   "outputs": [],
   "source": [
    "first_df = predictions[0]\n",
    "result_df = pd.DataFrame()\n",
    "result_df['id'] = first_df['id']\n",
    "final_answers = []\n",
    "final_probs = []\n",
    "\n",
    "for idx, row_id in enumerate(result_df['id']):\n",
    "    current_probs = []\n",
    "    for pred_df in predictions:\n",
    "        pred_row = pred_df[pred_df['id'] == row_id].iloc[0]\n",
    "        probs = [pred_row[col] for col in pred_row.index if col.startswith('prob_')]\n",
    "        probs = [0 if pd.isna(p) else p for p in probs]\n",
    "        current_probs.append(probs)\n",
    "\n",
    "    avg_probs = np.mean(current_probs, axis=0)\n",
    "    answer = str(np.argmax(avg_probs) + 1)\n",
    "        \n",
    "    final_answers.append(answer)\n",
    "    final_probs.append(avg_probs)"
   ]
  },
  {
   "cell_type": "code",
   "execution_count": 61,
   "metadata": {},
   "outputs": [],
   "source": [
    "result_df['ensemble_answer'] = final_answers\n",
    "result_df.to_csv(\"output/ensemble_result.csv\")"
   ]
  },
  {
   "cell_type": "code",
   "execution_count": 62,
   "metadata": {},
   "outputs": [],
   "source": [
    "result_with_prob = result_df.copy()\n",
    "for i in range(len(final_probs[0])):\n",
    "    result_with_prob[f'avg_prob_{i+1}'] = [probs[i] for probs in final_probs]"
   ]
  },
  {
   "cell_type": "code",
   "execution_count": 63,
   "metadata": {},
   "outputs": [
    {
     "data": {
      "text/html": [
       "<div>\n",
       "<style scoped>\n",
       "    .dataframe tbody tr th:only-of-type {\n",
       "        vertical-align: middle;\n",
       "    }\n",
       "\n",
       "    .dataframe tbody tr th {\n",
       "        vertical-align: top;\n",
       "    }\n",
       "\n",
       "    .dataframe thead th {\n",
       "        text-align: right;\n",
       "    }\n",
       "</style>\n",
       "<table border=\"1\" class=\"dataframe\">\n",
       "  <thead>\n",
       "    <tr style=\"text-align: right;\">\n",
       "      <th></th>\n",
       "      <th>id</th>\n",
       "      <th>ensemble_answer</th>\n",
       "      <th>avg_prob_1</th>\n",
       "      <th>avg_prob_2</th>\n",
       "      <th>avg_prob_3</th>\n",
       "      <th>avg_prob_4</th>\n",
       "      <th>avg_prob_5</th>\n",
       "    </tr>\n",
       "  </thead>\n",
       "  <tbody>\n",
       "    <tr>\n",
       "      <th>0</th>\n",
       "      <td>generation-for-nlp-0</td>\n",
       "      <td>1</td>\n",
       "      <td>0.938469</td>\n",
       "      <td>0.033705</td>\n",
       "      <td>0.010716</td>\n",
       "      <td>0.012401</td>\n",
       "      <td>4.709603e-03</td>\n",
       "    </tr>\n",
       "    <tr>\n",
       "      <th>1</th>\n",
       "      <td>generation-for-nlp-1</td>\n",
       "      <td>1</td>\n",
       "      <td>0.987593</td>\n",
       "      <td>0.005773</td>\n",
       "      <td>0.005843</td>\n",
       "      <td>0.000744</td>\n",
       "      <td>4.707602e-05</td>\n",
       "    </tr>\n",
       "    <tr>\n",
       "      <th>2</th>\n",
       "      <td>generation-for-nlp-2</td>\n",
       "      <td>4</td>\n",
       "      <td>0.000200</td>\n",
       "      <td>0.000193</td>\n",
       "      <td>0.000065</td>\n",
       "      <td>0.999540</td>\n",
       "      <td>2.419700e-06</td>\n",
       "    </tr>\n",
       "    <tr>\n",
       "      <th>3</th>\n",
       "      <td>generation-for-nlp-3</td>\n",
       "      <td>5</td>\n",
       "      <td>0.092411</td>\n",
       "      <td>0.058411</td>\n",
       "      <td>0.006956</td>\n",
       "      <td>0.013506</td>\n",
       "      <td>8.287144e-01</td>\n",
       "    </tr>\n",
       "    <tr>\n",
       "      <th>4</th>\n",
       "      <td>generation-for-nlp-4</td>\n",
       "      <td>3</td>\n",
       "      <td>0.229734</td>\n",
       "      <td>0.180046</td>\n",
       "      <td>0.429324</td>\n",
       "      <td>0.157940</td>\n",
       "      <td>2.955932e-03</td>\n",
       "    </tr>\n",
       "    <tr>\n",
       "      <th>...</th>\n",
       "      <td>...</td>\n",
       "      <td>...</td>\n",
       "      <td>...</td>\n",
       "      <td>...</td>\n",
       "      <td>...</td>\n",
       "      <td>...</td>\n",
       "      <td>...</td>\n",
       "    </tr>\n",
       "    <tr>\n",
       "      <th>864</th>\n",
       "      <td>generation-for-nlp-1609</td>\n",
       "      <td>1</td>\n",
       "      <td>0.999860</td>\n",
       "      <td>0.000110</td>\n",
       "      <td>0.000017</td>\n",
       "      <td>0.000010</td>\n",
       "      <td>2.381626e-06</td>\n",
       "    </tr>\n",
       "    <tr>\n",
       "      <th>865</th>\n",
       "      <td>generation-for-nlp-1512</td>\n",
       "      <td>1</td>\n",
       "      <td>0.999890</td>\n",
       "      <td>0.000100</td>\n",
       "      <td>0.000005</td>\n",
       "      <td>0.000004</td>\n",
       "      <td>6.733329e-07</td>\n",
       "    </tr>\n",
       "    <tr>\n",
       "      <th>866</th>\n",
       "      <td>generation-for-nlp-1382</td>\n",
       "      <td>3</td>\n",
       "      <td>0.000040</td>\n",
       "      <td>0.000063</td>\n",
       "      <td>0.999739</td>\n",
       "      <td>0.000154</td>\n",
       "      <td>3.834223e-06</td>\n",
       "    </tr>\n",
       "    <tr>\n",
       "      <th>867</th>\n",
       "      <td>generation-for-nlp-702</td>\n",
       "      <td>4</td>\n",
       "      <td>0.002178</td>\n",
       "      <td>0.000527</td>\n",
       "      <td>0.041955</td>\n",
       "      <td>0.955340</td>\n",
       "      <td>0.000000e+00</td>\n",
       "    </tr>\n",
       "    <tr>\n",
       "      <th>868</th>\n",
       "      <td>generation-for-nlp-1404</td>\n",
       "      <td>1</td>\n",
       "      <td>0.999339</td>\n",
       "      <td>0.000594</td>\n",
       "      <td>0.000058</td>\n",
       "      <td>0.000006</td>\n",
       "      <td>3.104721e-06</td>\n",
       "    </tr>\n",
       "  </tbody>\n",
       "</table>\n",
       "<p>869 rows × 7 columns</p>\n",
       "</div>"
      ],
      "text/plain": [
       "                          id ensemble_answer  avg_prob_1  avg_prob_2  \\\n",
       "0       generation-for-nlp-0               1    0.938469    0.033705   \n",
       "1       generation-for-nlp-1               1    0.987593    0.005773   \n",
       "2       generation-for-nlp-2               4    0.000200    0.000193   \n",
       "3       generation-for-nlp-3               5    0.092411    0.058411   \n",
       "4       generation-for-nlp-4               3    0.229734    0.180046   \n",
       "..                       ...             ...         ...         ...   \n",
       "864  generation-for-nlp-1609               1    0.999860    0.000110   \n",
       "865  generation-for-nlp-1512               1    0.999890    0.000100   \n",
       "866  generation-for-nlp-1382               3    0.000040    0.000063   \n",
       "867   generation-for-nlp-702               4    0.002178    0.000527   \n",
       "868  generation-for-nlp-1404               1    0.999339    0.000594   \n",
       "\n",
       "     avg_prob_3  avg_prob_4    avg_prob_5  \n",
       "0      0.010716    0.012401  4.709603e-03  \n",
       "1      0.005843    0.000744  4.707602e-05  \n",
       "2      0.000065    0.999540  2.419700e-06  \n",
       "3      0.006956    0.013506  8.287144e-01  \n",
       "4      0.429324    0.157940  2.955932e-03  \n",
       "..          ...         ...           ...  \n",
       "864    0.000017    0.000010  2.381626e-06  \n",
       "865    0.000005    0.000004  6.733329e-07  \n",
       "866    0.999739    0.000154  3.834223e-06  \n",
       "867    0.041955    0.955340  0.000000e+00  \n",
       "868    0.000058    0.000006  3.104721e-06  \n",
       "\n",
       "[869 rows x 7 columns]"
      ]
     },
     "execution_count": 63,
     "metadata": {},
     "output_type": "execute_result"
    }
   ],
   "source": [
    "result_with_prob"
   ]
  },
  {
   "cell_type": "markdown",
   "metadata": {},
   "source": [
    "# Hard Voting (다수결)"
   ]
  },
  {
   "cell_type": "code",
   "execution_count": null,
   "metadata": {},
   "outputs": [],
   "source": [
    "first_df = predictions[0]\n",
    "    result_df = pd.DataFrame()\n",
    "    result_df['id'] = first_df['id']\n",
    "    \n",
    "    final_answers = []\n",
    "    for idx in range(len(first_df)):\n",
    "        # 각 모델의 예측값 수집\n",
    "        votes = [pred_df.iloc[idx]['answer'] for pred_df in predictions]\n",
    "        # 최빈값 계산\n",
    "        most_common = Counter(votes).most_common(1)[0][0]\n",
    "        final_answers.append(most_common)\n",
    "    \n",
    "    result_df['answer'] = final_answers"
   ]
  }
 ],
 "metadata": {
  "kernelspec": {
   "display_name": "base",
   "language": "python",
   "name": "python3"
  },
  "language_info": {
   "codemirror_mode": {
    "name": "ipython",
    "version": 3
   },
   "file_extension": ".py",
   "mimetype": "text/x-python",
   "name": "python",
   "nbconvert_exporter": "python",
   "pygments_lexer": "ipython3",
   "version": "3.10.13"
  }
 },
 "nbformat": 4,
 "nbformat_minor": 2
}
