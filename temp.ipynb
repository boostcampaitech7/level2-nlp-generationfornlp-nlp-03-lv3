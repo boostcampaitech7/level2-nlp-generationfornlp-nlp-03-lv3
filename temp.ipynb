{
 "cells": [
  {
   "cell_type": "code",
   "execution_count": 1,
   "metadata": {},
   "outputs": [],
   "source": [
    "import pandas as pd"
   ]
  },
  {
   "cell_type": "code",
   "execution_count": 2,
   "metadata": {},
   "outputs": [],
   "source": [
    "wrong_dic={39: ('사회', '정치와법'),\n",
    " 40: ('사회', '정치와법'),\n",
    " 54: ('국어', ''),\n",
    " 71: ('국어', '문학'),\n",
    " 78: ('국어', '고전문학'),\n",
    " 91: ('사회', ''),\n",
    " 122: ('국어', '고전문학'),\n",
    " 165: ('사회', '정치와법'),\n",
    " 216: ('사회', ''),\n",
    " 247: ('사회', '생활과윤리'),\n",
    " 257: ('사회', '생활과윤리'),\n",
    " 259: ('사회', '생활과윤리'),\n",
    " 270: ('사회', '정치와법'),\n",
    " 273: ('사회', '정치와법'),\n",
    " 276: ('사회', '정치와법'),\n",
    " 281: ('사회', '윤리와사상'),\n",
    " 292: ('사회', ''),\n",
    " 298: ('사회', '윤리와사상'),\n",
    " 308: ('사회', ''),\n",
    " 317: ('사회', ''),\n",
    " 364: ('국어', '비문학'),\n",
    " 365: ('국어', '비문학'),\n",
    " 399: ('사회', '생활과윤리'),\n",
    " 400: ('사회', '생활과윤리'),\n",
    " 407: ('사회', '생활과윤리'),\n",
    " 411: ('사회', '생활과윤리'),\n",
    " 413: ('사회', '윤리와사상')}"
   ]
  },
  {
   "cell_type": "code",
   "execution_count": 30,
   "metadata": {},
   "outputs": [
    {
     "name": "stdout",
     "output_type": "stream",
     "text": [
      "<class 'int'>\n"
     ]
    }
   ],
   "source": [
    "wrong_list=list(wrong_dic.keys())\n",
    "print(type(wrong_list[0]))"
   ]
  },
  {
   "cell_type": "code",
   "execution_count": 7,
   "metadata": {},
   "outputs": [],
   "source": [
    "test_df=pd.read_csv(\"test_reformat.csv\")"
   ]
  },
  {
   "cell_type": "code",
   "execution_count": 31,
   "metadata": {},
   "outputs": [],
   "source": [
    "def check_if_wrong(example):\n",
    "    idx=int(example.split('-')[-1])\n",
    "    if idx in wrong_list:\n",
    "        return True\n",
    "    else:\n",
    "        return False"
   ]
  },
  {
   "cell_type": "code",
   "execution_count": 32,
   "metadata": {},
   "outputs": [],
   "source": [
    "test_df['if_is_wrong']=test_df['id'].apply(check_if_wrong)"
   ]
  },
  {
   "cell_type": "code",
   "execution_count": 33,
   "metadata": {},
   "outputs": [
    {
     "data": {
      "text/plain": [
       "id                                           generation-for-nlp-39\n",
       "paragraph        ( 단 ,  A,  B는 각각 지방  자치 단체의 장,  지방 의회 중 하나임.) ...\n",
       "question                                     다음 자료에 대한 설명으로 옳은 것은?\n",
       "choices          ['A는 조례의 제정ㆍ 개정 및 폐지를 의결한다.', '주민 참여 예산 제도는 A의...\n",
       "question_plus                                                  NaN\n",
       "Unnamed: 5                                                      39\n",
       "subject                                                         사회\n",
       "detail                                                        정치와법\n",
       "if_is_wrong                                                   True\n",
       "Name: 39, dtype: object"
      ]
     },
     "execution_count": 33,
     "metadata": {},
     "output_type": "execute_result"
    }
   ],
   "source": [
    "test_df.iloc[39]"
   ]
  },
  {
   "cell_type": "code",
   "execution_count": 34,
   "metadata": {},
   "outputs": [],
   "source": [
    "wrong_df=test_df[test_df['if_is_wrong']==True]"
   ]
  },
  {
   "cell_type": "code",
   "execution_count": 36,
   "metadata": {},
   "outputs": [],
   "source": [
    "wrong_df.to_csv(\"wrong_only.csv\",encoding='utf-8-sig')"
   ]
  },
  {
   "cell_type": "code",
   "execution_count": 38,
   "metadata": {},
   "outputs": [
    {
     "data": {
      "text/plain": [
       "detail\n",
       "생활과윤리      7\n",
       "정치와법       6\n",
       "윤리와사상      3\n",
       "고전문학-시가    2\n",
       "비문학        2\n",
       "고전문학-소설    1\n",
       "Name: count, dtype: int64"
      ]
     },
     "execution_count": 38,
     "metadata": {},
     "output_type": "execute_result"
    }
   ],
   "source": [
    "wrong_df['detail'].value_counts()"
   ]
  },
  {
   "cell_type": "code",
   "execution_count": 39,
   "metadata": {},
   "outputs": [
    {
     "data": {
      "text/plain": [
       "27"
      ]
     },
     "execution_count": 39,
     "metadata": {},
     "output_type": "execute_result"
    }
   ],
   "source": [
    "len(wrong_df)"
   ]
  },
  {
   "cell_type": "code",
   "execution_count": 40,
   "metadata": {},
   "outputs": [],
   "source": [
    "from transformers import AutoTokenizer\n",
    "tokenizer=AutoTokenizer.from_pretrained(\"unsloth/Qwen2.5-32B-Instruct-bnb-4bit\")"
   ]
  },
  {
   "cell_type": "code",
   "execution_count": 43,
   "metadata": {},
   "outputs": [],
   "source": [
    "text='''\n",
    "소냐 전가(田家)  흥미 날로 기퍼 가노매라 살여흘 긴 몰래예 밤블이  가시니 ㉠게 잡 아이 그​ ​을 흣텨 잇고 호두포* 엔 구븨 예 아젹 믈이  미러오니 ㉡돗​​ 애내성(欸 乃聲)*이 고기  댱로다 경 (景 )도 됴커니와 생리(生理)라  괴로오랴 (중략) 어와 이 청경( 淸景)  갑시 이실 거시런 적막히 다든 문애 내  분으로 드려오랴 사조(私照)* 업다 호미 거즌말 아니로다 ㉢모재(茅齋)*예 빗쵠 빗치 옥루( 玉樓)라 다\n",
    "'''"
   ]
  },
  {
   "cell_type": "code",
   "execution_count": 44,
   "metadata": {},
   "outputs": [],
   "source": [
    "input_ids=tokenizer(text)['input_ids']"
   ]
  },
  {
   "cell_type": "code",
   "execution_count": 45,
   "metadata": {},
   "outputs": [
    {
     "data": {
      "text/plain": [
       "'\\n소냐 전가(田家)  흥미\\ue285 날로 기퍼 가노매라 살여흘 긴 몰래예 밤블이 \\ue64f 가시니 ㉠게 잡\\ue285 아\\uf550\\ue38f이 그\\ue566\\u200b \\u200b을 흣텨 잇고 호두포* 엔 구븨 예 아젹 믈이  미러오니 ㉡돗\\ue38d\\u200b\\u200b\\ue668 애내성(欸 乃聲)*이 고기 \\uf48e\\ue285 댱\\ue999로다 경 (景 )도 됴커니와 생리(生理)라  괴로오랴 (중략) 어와 이 청경( 淸景)  갑시 이실 거시런\\ue38f 적막히 다든 문애 내  분으로 드려오랴 사조(私照)* 업다 호미 거즌말 아니로다 ㉢모재(茅齋)*예 빗쵠 빗치 옥루( 玉樓)라 다\\n'"
      ]
     },
     "execution_count": 45,
     "metadata": {},
     "output_type": "execute_result"
    }
   ],
   "source": [
    "tokenizer.decode(input_ids)"
   ]
  },
  {
   "cell_type": "code",
   "execution_count": 46,
   "metadata": {},
   "outputs": [],
   "source": [
    "test_origin=pd.read_csv(\"./resources/raw/test.csv\")"
   ]
  },
  {
   "cell_type": "code",
   "execution_count": 50,
   "metadata": {},
   "outputs": [
    {
     "data": {
      "text/plain": [
       "'(가 ) 동녁 두던 밧긔 크나큰 너븐 들\\uf550 만경(萬頃)  황운(黃雲)이 \\uf53a 빗치 되야 잇다 중양이 거의로다 내노리 \\uf537 쟈스라 블근 게  여믈고 눌은 \\ue390기 \\ue982져시니 술이 니글션졍 버디야 업\\ue982 소냐 전가(田家)  흥미\\ue285 날로 기퍼 가노매라 살여흘 긴 몰래예 밤블이 \\ue64f 가시니 ㉠게 잡\\ue285 아\\uf550\\ue38f이 그\\ue566\\u200b \\u200b을 흣텨 잇고 호두포* 엔 구븨 예 아젹 믈이  미러오니 ㉡돗\\ue38d\\u200b\\u200b\\ue668 애내성(欸 乃聲)*이 고기 \\uf48e\\ue285 댱\\ue999로다 경 (景 )도 됴커니와 생리(生理)라  괴로오랴 (중략) 어와 이 청경( 淸景)  갑시 이실 거시런\\ue38f 적막히 다든 문애 내  분으로 드려오랴 사조(私照)* 업다 호미 거즌말 아니로다 ㉢모재(茅齋)*예 빗쵠 빗치 옥루( 玉樓)라 다\\ue470 소냐 청준(淸樽)을 밧\\ueb82\\u200b  열고 큰 잔의 \\ue1a7\\ue38b 브어 ㉣죽엽(竹葉)  \\ue1a7\\u200b \\ue285\\u200b\\u200b  술\\ue470 \\ue38f빗 조차 거후로니 표연\\uf53a 일흥( 逸興)이 져기면 \\ue288리로다 이적선( 李謫仙)  이려\\uf537야 \\ue38f을 보고 밋치닷다 춘하추동애 경물이 아름답고 주야조모( 晝夜朝暮) 애 완상이 새로오니 ㉤몸이 한가\\uf537 나 귀 눈은 겨\\ue470 업다 여생이 언마치리 백발이 날로 기니 세상 공명은 계륵이나 다\\ue470 소냐 ⓐ강호 어조( 魚鳥)애 새 \\ue587셰 깁퍼시니 옥당금마( 玉堂金馬)*의 몽혼( 夢魂)*이 섯긔엿다 초당연월( 草堂煙月) 의 시\\ue477 업시 누워 이셔 촌주강어( 村酒江魚) 로 장일취( 長日醉) \\ue470 원 (願 )\\uf537노라 이 몸이 이러구롬도 역군은( 亦君恩) 이샷다 -신계영,  ｢월선헌십육경가｣ - *호두포 :예산현의 무한천 하류. *애내성 :어부가 노를 저으면서 부르는 노랫소리 . *사조 :사사로이 비춤 . *모재 :띠로 지붕을 이어 지은 집. *옥당금마 :관직 생활 . *몽혼 :꿈 . (나 ) 어촌(漁村)은 나의 벗 공백공의 자호( 自號)다 .  백공은 나와  태어난 해는 같으나 생일이 뒤이기 때문에 내가 아우라고 한다.   풍채와 인품이 소탈하고 명랑하여 사랑할 만하다.  대과에 급제 하고 좋은 벼슬에 올라,  갓끈을 나부끼고 인끈을 두르고 필기를   위한 붓을 귀에 꽂고 나라의 옥새를 주관하니 ,  사람들은 진실로   그에게 원대한 기대를 하였으나 ,  담담하게 강호의 취미를 지니고   있다.  가끔 흥이 무르익으면,  ｢어부사｣ 를 노래한다.  그 음성이 맑고 밝아서 천지에 가득 찰 것 같다.  증자가 상송 (商頌 )을 노래 하는 것을 듣는 듯하여,  사람의 가슴으로 하여금 멀리 강호에  있는 것 같게 만든다.  이것은 그의 마음에 사욕이 없 어 사물에  초탈하였기 때문에 소리의 나타남이 이와 같은 것이다 . 하루는 나에게 말하기를, “나의 뜻은 어부( 漁父 )에 있다.  그대는 어부의 즐거움을 아는가.   강태공은 성인이니 내가  감히  그가 주 문왕을 만난 것과 같은   그런 만남을 기약할 수 없다.  엄자릉은 현인이니 내가 감히   그의 깨끗함을 바랄 수는 없다.  ㉥아이와 어른들을 데리고  갈매기와 백로를 벗하며  어떤 때는 낚싯대를 잡고 ,  ㉦외로운  배를 노 저어 조류를 따라 오르고 내리면서 가는 대로 맡겨  두고 ,  모래가 깨끗하면 뱃줄을 매어 두고 산이 좋으면 그 가 운데를 흘러간다 .  ㉧구운 고기와 신선한 생선회로 술잔을 들어   주고받다가  해가 지고 달이 떠오르며 바람은 잔잔하고 물결이   고요한 때에는 배에 기대어 길게 휘파람을 불며 ,  돛대를 치고   큰 소리로 노래를 부른다.  ㉨흰 물결을 일으키고 맑은 빛을  헤치면 ,  멀고 멀어서 마치 성사*를 타고 하늘에 오르는 것 같다.   강의 연기가 자욱하고 짙은 안개가 내리면,  도롱이와 삿갓을  걸치고 그물을 걷어 올리면 금빛 같은 비늘과 옥같이 흰 꼬리의   물고기가 제멋대로 펄떡거리며 뛰는 모습은 ㉩넉넉히 눈을  즐겁게 하고 마음을 기쁘게 한다 .  밤이 깊어 구름은 어둡고  하늘이 캄캄하면 사방은 아득하기만 하다 .  어촌의 등불은 가물 거리는데 배의 지붕에 빗소리는 울어 느리다가 빠르다가 우수수 하는 소리가 차갑고도 슬프다 .  …(중략 )…  여름날 뜨거운 햇빛에   더위가 쏟아질 적엔 버드나무 늘어진 낚시터에 미풍이 불고 ,   겨울 하늘에 눈이 날릴 때면 차가운 강물에서 홀로 낚시를  드리운다.  사계절이 차례로 바뀌건만 어부의 즐거움은 없는  때가 없다. 저 영달에 얽매여 벼슬하는 자는 구차하게 영화에 매달리지만   나는 만나는 대로 편안하다.  빈궁하여 고기잡이를 하는 자는  구차하게 이익을 계산하지만 나는 스스로 유유자적을 즐긴다.   성공과 실패는 운명에 맡기고 ,  진퇴도 오직 때를 따를 뿐이다.   부귀 보기를 뜬구름과 같이 하고 공명을 헌신짝 벗어 버리듯   하여 ,  스스로 세상의 물욕 밖에서 방랑하는 것이니 ,  어찌 시세에   영합하여 이름을 낚시질하고 ,  벼슬길에 빠져들어 생명을 가볍게   여기며 이익만 취하다가 스스로 함정에 빠지는 자와 같겠는가 . ⓑ이것이 내가 몸은 벼슬을 하면서도 뜻은 강호에 두어 매양   노래에 의탁하는 것이니,  그대는 어떻게 생각하는가? ” 하니 내가 듣고 즐거워하며 그대로 기록하여 백공에게 보내고 ,   또한 나 자신도 살피고자 한다.  을축년 7월 어느 날. -권근 ,  ｢어촌기｣ - *성사 :옛날 장건이 타고 하늘에 다녀왔다고 하는 배 .[A ] '"
      ]
     },
     "execution_count": 50,
     "metadata": {},
     "output_type": "execute_result"
    }
   ],
   "source": [
    "test_origin.iloc[124]['paragraph']"
   ]
  },
  {
   "cell_type": "code",
   "execution_count": null,
   "metadata": {},
   "outputs": [],
   "source": []
  }
 ],
 "metadata": {
  "kernelspec": {
   "display_name": ".venv",
   "language": "python",
   "name": "python3"
  },
  "language_info": {
   "codemirror_mode": {
    "name": "ipython",
    "version": 3
   },
   "file_extension": ".py",
   "mimetype": "text/x-python",
   "name": "python",
   "nbconvert_exporter": "python",
   "pygments_lexer": "ipython3",
   "version": "3.10.15"
  }
 },
 "nbformat": 4,
 "nbformat_minor": 2
}
